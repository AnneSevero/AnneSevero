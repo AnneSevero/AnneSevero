{
  "nbformat": 4,
  "nbformat_minor": 0,
  "metadata": {
    "colab": {
      "provenance": [],
      "include_colab_link": true
    },
    "kernelspec": {
      "name": "python3",
      "display_name": "Python 3"
    },
    "language_info": {
      "name": "python"
    }
  },
  "cells": [
    {
      "cell_type": "markdown",
      "metadata": {
        "id": "view-in-github",
        "colab_type": "text"
      },
      "source": [
        "<a href=\"https://colab.research.google.com/github/AnneSevero/AnneSevero/blob/main/C%C3%B3pia_de_aula.ipynb\" target=\"_parent\"><img src=\"https://colab.research.google.com/assets/colab-badge.svg\" alt=\"Open In Colab\"/></a>"
      ]
    },
    {
      "cell_type": "markdown",
      "source": [
        "variável:\n",
        "\n"
      ],
      "metadata": {
        "id": "I0HrV01MPoSj"
      }
    },
    {
      "cell_type": "code",
      "source": [
        "#string\n",
        "nome = 'isabelle1234@3673648988'\n",
        "\n",
        "# colocar td em maiusculo\n",
        "print(nome.upper())\n",
        "\n",
        "# td em minusculo\n",
        "print(nome.lower())\n",
        "\n",
        "# concatenar\n",
        "idade = '10'\n",
        "idade2 = '5'\n",
        "print(idade + idade2)\n",
        "\n",
        "# pegar uma fatia\n",
        "print(nome[0:3])"
      ],
      "metadata": {
        "colab": {
          "base_uri": "https://localhost:8080/"
        },
        "id": "TNnEiP85P9W3",
        "outputId": "556e0d8d-934f-4f78-f6a0-54847072c3d2"
      },
      "execution_count": null,
      "outputs": [
        {
          "output_type": "stream",
          "name": "stdout",
          "text": [
            "ISABELLE1234@3673648988\n",
            "isabelle1234@3673648988\n",
            "105\n",
            "isa\n"
          ]
        }
      ]
    },
    {
      "cell_type": "code",
      "source": [
        "#int\n",
        "idade = 1\n",
        "#float\n",
        "centavos = 0.5\n",
        "#bool\n",
        "proa_e_legal = True\n",
        "\n",
        "oi = '23'\n",
        "print(type(oi))\n"
      ],
      "metadata": {
        "colab": {
          "base_uri": "https://localhost:8080/"
        },
        "id": "UmV81c4dQ33H",
        "outputId": "946bf14c-f4fc-436b-abcb-52623b8ff393"
      },
      "execution_count": null,
      "outputs": [
        {
          "output_type": "stream",
          "name": "stdout",
          "text": [
            "<class 'str'>\n"
          ]
        }
      ]
    },
    {
      "cell_type": "code",
      "source": [
        "nome = 'isabelle'\n",
        "print(nome)"
      ],
      "metadata": {
        "colab": {
          "base_uri": "https://localhost:8080/"
        },
        "id": "tdR8FWExPnn_",
        "outputId": "2d3e4cac-2305-45e5-ea49-265f4dae79bb"
      },
      "execution_count": null,
      "outputs": [
        {
          "output_type": "stream",
          "name": "stdout",
          "text": [
            "isabelle\n"
          ]
        }
      ]
    },
    {
      "cell_type": "code",
      "source": [
        "#lista\n",
        "nomes = ['Alessandra', 'Guilherme', 'Brian', 'Isa', 'Alessandra', 'Alessandra', 20, 0.9]\n",
        "nomes_2 = [1, 2, 3,]\n",
        "\n",
        "#Como alterar uma lista\n",
        "nomes[0] = \"Alex\"\n",
        "\n",
        "# adicionar um indice\n",
        "nomes.append('Kaique')\n",
        "\n",
        "# deleta um indice\n",
        "nomes.pop(1)\n",
        "\n",
        "#deleta a lista inteira\n",
        "#nomes.clear()\n",
        "\n",
        "# Frequencia que o nome aparece dentro de uma lista\n",
        "print(nomes.count('Alessandra'))\n",
        "\n",
        "# Tamanho da lista\n",
        "print(len(nomes))\n",
        "\n",
        "print(nomes)\n",
        "\n",
        "# Concatenação de listas\n",
        "proa1 = ['equipe 1', 'Equipe 2']\n",
        "proa2 = ['Equipe3']\n",
        "\n",
        "proa = proa1 + proa2\n",
        "print(proa)\n",
        "\n",
        "\n",
        "#tupla\n",
        "\n",
        "\n",
        "#dicionario\n",
        "#set"
      ],
      "metadata": {
        "colab": {
          "base_uri": "https://localhost:8080/"
        },
        "id": "4bLAJxhFRT1O",
        "outputId": "536a71f4-2d39-4515-85d4-1623536c235d"
      },
      "execution_count": null,
      "outputs": [
        {
          "output_type": "stream",
          "name": "stdout",
          "text": [
            "0\n",
            "3\n",
            "['Alex', 3, 'Kaique']\n",
            "['equipe 1', 'Equipe 2', 'Equipe3']\n"
          ]
        }
      ]
    },
    {
      "cell_type": "markdown",
      "source": [
        "#tupla\n",
        "\n",
        "Tuplas são semelhantes as listas, porém, imutaiveis (não alteram os valores)\n"
      ],
      "metadata": {
        "id": "gK9TwnpMUJ3D"
      }
    },
    {
      "cell_type": "code",
      "source": [
        "nomes_tupla = ('isa', 'Brian', 'Alessandra', 'Adryan', 'Adryan', 'Adryan Silva', 'Adryan Pereira', 'Guilherme', 'Guilherme', 'Guilherme', 'Guilherme', 'Guilherme')\n",
        "#nomes_tupla[0] = 'Oi'\n",
        "print(nomes_tupla)\n",
        "\n",
        "#set: uma função que reune os valores repetidos\n",
        "nomes_set = set(nomes_tupla)\n",
        "print(nomes_set)\n",
        "\n"
      ],
      "metadata": {
        "colab": {
          "base_uri": "https://localhost:8080/"
        },
        "id": "H5294QbuVBgx",
        "outputId": "b72ef122-88fa-44ac-9689-7e9b37424504"
      },
      "execution_count": null,
      "outputs": [
        {
          "output_type": "stream",
          "name": "stdout",
          "text": [
            "('isa', 'Brian', 'Alessandra', 'Adryan', 'Adryan', 'Adryan Silva', 'Adryan Pereira', 'Guilherme', 'Guilherme', 'Guilherme', 'Guilherme', 'Guilherme')\n",
            "{'Adryan Pereira', 'Brian', 'Alessandra', 'isa', 'Guilherme', 'Adryan Silva', 'Adryan'}\n"
          ]
        }
      ]
    },
    {
      "cell_type": "code",
      "source": [
        "#dicionario\n",
        "\n",
        "dic_idade = {'isa': 20, 'Brian': 22, 'Alessandra': 19, 'Alessandra': 20, 'Alessandra': 21}\n",
        "\n",
        "dic_idade['Gustavo'] = dic_idade['isa']\n",
        "del dic_idade['isa']\n",
        "\n",
        "# alterar o valor do item de um dicionário\n",
        "dic_idade['Gustavo'] = 25\n",
        "\n",
        "#retorna valores\n",
        "print(dic_idade.values())\n",
        "\n",
        "#retorna chaves\n",
        "print(dic_idade.keys())\n",
        "\n",
        "# valores repetidos ele sobrepõe o valor\n",
        "print(dic_idade)\n",
        "\n",
        "#deletar um valor de um dicionário\n",
        "dic_idade.pop('Brian')\n",
        "print(dic_idade)\n",
        "\n",
        "#adicionar um valor no dicionário\n",
        "dic_idade['patinhos'] = 20\n",
        "print(dic_idade)\n",
        "\n"
      ],
      "metadata": {
        "colab": {
          "base_uri": "https://localhost:8080/"
        },
        "id": "jyom7IeUXIyB",
        "outputId": "2b6cab74-8f1f-4d69-fd9c-051256e0c22f"
      },
      "execution_count": null,
      "outputs": [
        {
          "output_type": "stream",
          "name": "stdout",
          "text": [
            "{'Brian': 22, 'Alessandra': 21, 'Gustavo': 25, 'patinhos': 20}\n",
            "dict_values([22, 21, 25, 20])\n",
            "dict_keys(['Brian', 'Alessandra', 'Gustavo', 'patinhos'])\n",
            "{'Brian': 22, 'Alessandra': 21, 'Gustavo': 25, 'patinhos': 20}\n",
            "{'Alessandra': 21, 'Gustavo': 25, 'patinhos': 20}\n"
          ]
        }
      ]
    },
    {
      "cell_type": "markdown",
      "source": [
        "Condicionais e operadores lógicas"
      ],
      "metadata": {
        "id": "NRbskp9XbP2i"
      }
    },
    {
      "cell_type": "code",
      "source": [
        "#operadores lógicos\n",
        "# <, >, !=, <>, ==, <=, >=\n",
        "\n",
        "#Condicionais\n",
        "# if\n",
        "# else\n",
        "# elif\n",
        "\n",
        "#Outros\n",
        "# is not None, is None, is True, is False, is not False, is not True\n",
        "\n",
        "# exercicio para ver quem é mais velho\n",
        "\n",
        "idade_isa = 25\n",
        "idade_brian = 22\n",
        "\n",
        "if idade_isa > idade_brian:\n",
        "  print('isa é mais velha')\n",
        "elif idade_brian > idade_isa:\n",
        "  print('brian é mais velho')\n",
        "else:\n",
        "  print('os dois tem a mesma idade')\n",
        "\n",
        "\n",
        "nome=input(\"Digite o nome: \")\n",
        "\n",
        "idade=int(input(\"Digite a idade: \"))\n",
        "\n",
        "doenca_infectocontagiosa=input(\"Suspeita de doença infecto-contagiosa?\").upper()\n",
        "\n",
        "if idade>=65 and doenca_infectocontagiosa==\"SIM\":\n",
        "    print(\"O paciente será direcionado para sala AMARELA - COM prioridade\")\n",
        "elif idade < 65 and doenca_infectocontagiosa == \"SIM\":\n",
        "    print(\"O paciente será direcionado para sala AMARELA - SEM prioridade\")\n",
        "elif idade >= 65 and doenca_infectocontagiosa == \"NAO\":\n",
        "    print(\"O paciente será direcionado para sala BRANCA - COM prioridade\")\n",
        "elif idade < 65 and doenca_infectocontagiosa == \"NAO\":\n",
        "    print(\"O paciente será direcionado para sala BRANCA - SEM prioridade\")\n",
        "else:\n",
        "    print(\"Responda a suspeita de doença infectocontagiosa com SIM ou NAO\")\n",
        "\n",
        "\n",
        "nome=input(\"Digite o nome: \")\n",
        "\n",
        "idade=int(input(\"Digite a idade: \"))\n",
        "\n",
        "doenca_infectocontagiosa=input(\"Suspeita de doença infectocontagiosa?\").upper()\n",
        "\n",
        "if idade >= 65:\n",
        "    print(\"Paciente COM prioridade\")\n",
        "    if doenca_infectocontagiosa==\"SIM\":\n",
        "        print(\"Encaminhe o paciente para sala VERMELHA\")\n",
        "    elif doenca_infectocontagiosa==\"NAO\":\n",
        "        print(\"Encaminhe o paciente para sala BRANCA\")\n",
        "    else:\n",
        "        print(\"Responda a suspeita de doença infectocontagiosa com SIM ou NAO\")\n",
        "else:\n",
        "    print(\"Paciente SEM prioridade\")\n",
        "    if doenca_infectocontagiosa==\"SIM\":\n",
        "        print(\"Encaminhe o paciente para sala AMARELA\")\n",
        "    elif doenca_infectocontagiosa==\"NAO\":\n",
        "        print(\"Encaminhe o paciente para sala BRANCA\")\n",
        "    else:\n",
        "        print(\"Responda a suspeita de doença infectocontagiosa com SIM ou NAO\")\n"
      ],
      "metadata": {
        "colab": {
          "base_uri": "https://localhost:8080/"
        },
        "id": "2lTZqJ2GbS4g",
        "outputId": "7770100e-40af-45b2-8d08-599bd86dbea0"
      },
      "execution_count": null,
      "outputs": [
        {
          "output_type": "stream",
          "name": "stdout",
          "text": [
            "isa é mais velha\n",
            "Digite o nome: ISA\n",
            "Digite a idade: 1\n",
            "Suspeita de doença infecto-contagiosa?SIm\n",
            "O paciente será direcionado para sala AMARELA - SEM prioridade\n",
            "Digite o nome: isa\n",
            "Digite a idade: 1\n",
            "Suspeita de doença infectocontagiosa?sim\n",
            "Paciente SEM prioridade\n",
            "Encaminhe o paciente para sala AMARELA\n"
          ]
        }
      ]
    },
    {
      "cell_type": "code",
      "source": [
        "valor = 15659625.7\n",
        "\n",
        "if type(valor) == int:\n",
        "  print('Valor não tem centavos')\n",
        "elif type(valor) == float:\n",
        "  centavos = str(valor).split('.')[-1]\n",
        "  print(f'Valor tem {centavos} centavos')\n",
        "else:\n",
        "  print('Coloque apenas valores int ou float')\n"
      ],
      "metadata": {
        "colab": {
          "base_uri": "https://localhost:8080/"
        },
        "id": "evxpdJARd9k-",
        "outputId": "5c2362c3-c1cc-48cd-8c6e-acfe0a2f0c91"
      },
      "execution_count": null,
      "outputs": [
        {
          "output_type": "stream",
          "name": "stdout",
          "text": [
            "Valor tem 7 centavos\n"
          ]
        }
      ]
    }
  ]
}
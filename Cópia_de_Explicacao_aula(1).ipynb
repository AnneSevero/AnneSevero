{
  "nbformat": 4,
  "nbformat_minor": 0,
  "metadata": {
    "colab": {
      "provenance": [],
      "include_colab_link": true
    },
    "kernelspec": {
      "name": "python3",
      "display_name": "Python 3"
    },
    "language_info": {
      "name": "python"
    }
  },
  "cells": [
    {
      "cell_type": "markdown",
      "metadata": {
        "id": "view-in-github",
        "colab_type": "text"
      },
      "source": [
        "<a href=\"https://colab.research.google.com/github/AnneSevero/AnneSevero/blob/main/C%C3%B3pia_de_Explicacao_aula(1).ipynb\" target=\"_parent\"><img src=\"https://colab.research.google.com/assets/colab-badge.svg\" alt=\"Open In Colab\"/></a>"
      ]
    },
    {
      "cell_type": "markdown",
      "source": [
        "![Python (1).png](data:image/png;base64,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)"
      ],
      "metadata": {
        "id": "v6is2qHFW_-h"
      }
    },
    {
      "cell_type": "markdown",
      "source": [
        "#Tipos de variaveis do Python\n",
        "\n",
        "*   list\n",
        "*   dict\n",
        "*   str\n",
        "*   int\n",
        "*   float\n",
        "*   set\n",
        "*   bool\n",
        "*   tuple\n",
        "\n",
        "\n",
        "Listas são mutaveis (podem ser alteradas) e porem ter valores repetidos\n",
        "[1,2,2,3,1]\n",
        "[0,2,2,3,1]\n",
        "\n",
        "Tuplas são imutaiveis (não alteram os valores)\n",
        "(1,2,2,1,1,3)\n",
        "\n",
        "Set são semelhantes a listas, porem não podem ter valores repetidos\n",
        "set(1,2,3)\n"
      ],
      "metadata": {
        "id": "1aUf68F3VVLJ"
      }
    },
    {
      "cell_type": "code",
      "source": [
        "##int -> 5\n",
        "#float -> 5.0\n",
        "[1,2,3]\n",
        "['andre','joao','maria']\n",
        "\n",
        "vector = {'nome':'maria',\n",
        " 'idade':24,\n",
        " 'altura':1.50}\n",
        "\n",
        "lista_numeros = [1,2,3,4,4,4,4,4,4,4]\n",
        "\n",
        "\n",
        "\n",
        "print(set(lista_numeros))\n",
        "\n",
        "\n",
        "#True -> 1\n",
        "#False -> 0\n",
        "\n"
      ],
      "metadata": {
        "colab": {
          "base_uri": "https://localhost:8080/"
        },
        "id": "M01LHRKrRON8",
        "outputId": "d23c3226-1570-45cc-aef2-786172202ab4"
      },
      "execution_count": null,
      "outputs": [
        {
          "output_type": "stream",
          "name": "stdout",
          "text": [
            "{1, 2, 3, 4}\n"
          ]
        }
      ]
    },
    {
      "cell_type": "markdown",
      "source": [],
      "metadata": {
        "id": "qqx78lRbW-vu"
      }
    },
    {
      "cell_type": "code",
      "source": [
        "\n",
        "#list\n",
        "nomes = ['andre','isa','jennie','andre']\n",
        "#tuple\n",
        "nomes_t = ('andre','isa','jennie','andre')\n",
        "\n",
        "print(nomes)\n",
        "#set\n",
        "nomes_unicos = set(nomes)\n",
        "print(nomes_unicos)\n",
        "\n",
        "nomes[-1] = 'isa'\n",
        "print(nomes)\n",
        "\n",
        "#tuple\n",
        "print(nomes_t)"
      ],
      "metadata": {
        "id": "tMIUNEsvVYZ4",
        "outputId": "6feabdfd-9b70-45c1-c1a2-907396709093",
        "colab": {
          "base_uri": "https://localhost:8080/"
        }
      },
      "execution_count": null,
      "outputs": [
        {
          "output_type": "stream",
          "name": "stdout",
          "text": [
            "['andre', 'isa', 'jennie', 'andre']\n",
            "{'jennie', 'isa', 'andre'}\n",
            "['andre', 'isa', 'jennie', 'isa']\n",
            "('andre', 'isa', 'jennie', 'andre')\n"
          ]
        }
      ]
    },
    {
      "cell_type": "code",
      "source": [
        "#Dicionario\n",
        "nomes = {'andre':25,'isa':20,'jennie':20}\n",
        "\n",
        "print(f\"idade: {nomes['jennie']}\")\n"
      ],
      "metadata": {
        "id": "YsFyxDMhVa7L",
        "colab": {
          "base_uri": "https://localhost:8080/"
        },
        "outputId": "9abe488c-489b-48d3-b71e-de2b00f9682e"
      },
      "execution_count": null,
      "outputs": [
        {
          "output_type": "stream",
          "name": "stdout",
          "text": [
            "idade: 20\n"
          ]
        }
      ]
    },
    {
      "cell_type": "markdown",
      "source": [
        "#Metodos e funcionalidades de cada tipo de variavel"
      ],
      "metadata": {
        "id": "AU6s0dfgVduk"
      }
    },
    {
      "cell_type": "markdown",
      "source": [
        "##str\n"
      ],
      "metadata": {
        "id": "X4v34SwgVj6S"
      }
    },
    {
      "cell_type": "code",
      "source": [
        "nome = 'Roberto'\n",
        "sobrenome = 'Carlos'\n",
        "\n",
        "idade_maria = '10'\n",
        "idade_joao = '5'\n",
        "\n",
        "\n",
        "nome_sobrenome = nome + ' ' +  sobrenome\n",
        "print(nome_sobrenome)\n",
        "\n",
        "#Somando str\n",
        "print(idade_maria + idade_joao)\n",
        "\n",
        "#Maiucuslo\n",
        "print(nome.upper())\n",
        "\n",
        "#Minusculo\n",
        "print(nome.lower())\n",
        "\n",
        "#Pegando uma fatia do texto\n",
        "print(nome[0:3])\n",
        "\n",
        "nome_aluna = 'Laura'\n",
        "print(nome_aluna[2:])\n"
      ],
      "metadata": {
        "id": "n1A1KFaRVeqR",
        "colab": {
          "base_uri": "https://localhost:8080/"
        },
        "outputId": "f59bec21-98e2-4477-c386-c16584f971a7"
      },
      "execution_count": null,
      "outputs": [
        {
          "output_type": "stream",
          "name": "stdout",
          "text": [
            "Roberto Carlos\n",
            "105\n",
            "ROBERTO\n",
            "roberto\n",
            "Rob\n",
            "ura\n"
          ]
        }
      ]
    },
    {
      "cell_type": "markdown",
      "source": [
        "##Int"
      ],
      "metadata": {
        "id": "K9k2obn0XUH1"
      }
    },
    {
      "cell_type": "code",
      "source": [
        "#int\n",
        "numero = 1\n",
        "numero2 = 2\n",
        "\n",
        "#visualizar type\n",
        "tipo = type(numero)\n",
        "print(tipo)\n",
        "\n",
        "# operadores\n",
        "soma = numero + numero2\n",
        "print(soma)\n",
        "\n",
        "subtracao = numero - numero2\n",
        "print(subtracao)\n",
        "\n",
        "multiplicacao = numero * numero2\n",
        "print(multiplicacao)\n",
        "\n",
        "divisao = numero / numero2\n",
        "print(divisao)\n"
      ],
      "metadata": {
        "colab": {
          "base_uri": "https://localhost:8080/"
        },
        "id": "o1mc12nDXTPk",
        "outputId": "d94579ff-6d6a-474a-8ad5-5a32b488cd1c"
      },
      "execution_count": null,
      "outputs": [
        {
          "output_type": "stream",
          "name": "stdout",
          "text": [
            "<class 'int'>\n",
            "3\n",
            "-1\n",
            "2\n",
            "0.5\n"
          ]
        }
      ]
    },
    {
      "cell_type": "markdown",
      "source": [
        "##Float"
      ],
      "metadata": {
        "id": "NFIqYrc0ZQSX"
      }
    },
    {
      "cell_type": "code",
      "source": [
        "#int\n",
        "numero = 1.9\n",
        "numero2 = 2.1\n",
        "\n",
        "#visualizar type\n",
        "tipo = type(numero)\n",
        "print(tipo)\n",
        "\n",
        "# operadores\n",
        "soma = numero + numero2\n",
        "print(soma)\n",
        "\n",
        "subtracao = numero - numero2\n",
        "print(subtracao)\n",
        "\n",
        "multiplicacao = numero * numero2\n",
        "print(multiplicacao)\n",
        "\n",
        "divisao = numero / numero2\n",
        "print(divisao)"
      ],
      "metadata": {
        "colab": {
          "base_uri": "https://localhost:8080/"
        },
        "id": "zLzOw41jZTJO",
        "outputId": "190097e8-b22d-4659-9d5e-9b8218bc262e"
      },
      "execution_count": null,
      "outputs": [
        {
          "output_type": "stream",
          "name": "stdout",
          "text": [
            "<class 'float'>\n",
            "4.0\n",
            "-0.20000000000000018\n",
            "3.9899999999999998\n",
            "0.9047619047619047\n"
          ]
        }
      ]
    },
    {
      "cell_type": "markdown",
      "source": [
        "# ##lista"
      ],
      "metadata": {
        "id": "a9LP7e_0VomR"
      }
    },
    {
      "cell_type": "code",
      "source": [
        "lista_de_jogos = ['gta','fifa','minecraft','battlefield']\n",
        "lista_de_jogos.append('cod')\n",
        "print(lista_de_jogos)"
      ],
      "metadata": {
        "colab": {
          "base_uri": "https://localhost:8080/"
        },
        "id": "jCJkXgLCYj8K",
        "outputId": "92fe4532-17d3-42d3-9e17-4beade9beb8a"
      },
      "execution_count": null,
      "outputs": [
        {
          "output_type": "stream",
          "name": "stdout",
          "text": [
            "['gta', 'fifa', 'minecraft', 'battlefield', 'cod']\n"
          ]
        }
      ]
    },
    {
      "cell_type": "code",
      "source": [
        "#list\n",
        "nomes = ['isa','jennie']\n",
        "print(nomes)\n",
        "nomes.append('andre')\n",
        "print(nomes)\n",
        "\n",
        "#Ordenando lista\n",
        "nomes.sort()\n",
        "print(nomes)\n",
        "\n",
        "#Removendo valor atraves de indice\n",
        "nomes.pop(0)\n",
        "print(nomes)\n",
        "\n",
        "idades = [20,25,19,30,20]\n",
        "\n",
        "#Frequencia que o numero 20 aparece\n",
        "print(idades.count(20))\n",
        "\n",
        "#Mostra quantidade de elementos que existe na lista\n",
        "print(len(idades))\n",
        "\n",
        "#Lista de listas\n",
        "lista_complexa = [['jennie',20],['isa',20],['andre',25]]\n",
        "\n",
        "print(lista_complexa)\n",
        "\n",
        "#acessando primeiro elemento da lista\n",
        "print(lista_complexa[0])\n",
        "\n",
        "#adicionando uma lista dentro de outra lista\n",
        "lista_complexa.append(nomes)\n",
        "print(lista_complexa)\n",
        "\n",
        "animais_1 = ['cachorro','gato']\n",
        "animais_2 = ['passaro','leão']\n",
        "\n",
        "#concatenar/juntar duas listas em uma só\n",
        "todos_animais = animais_1 + animais_2\n",
        "print(todos_animais)\n"
      ],
      "metadata": {
        "id": "YwJ0dK4DVpIa",
        "colab": {
          "base_uri": "https://localhost:8080/"
        },
        "outputId": "c2b1009d-4c5b-4d5e-a695-9de62423951a"
      },
      "execution_count": null,
      "outputs": [
        {
          "output_type": "stream",
          "name": "stdout",
          "text": [
            "['isa', 'jennie']\n",
            "['isa', 'jennie', 'andre']\n",
            "['andre', 'isa', 'jennie']\n",
            "['isa', 'jennie']\n",
            "2\n",
            "5\n",
            "[['jennie', 20], ['isa', 20], ['andre', 25]]\n",
            "['jennie', 20]\n",
            "[['jennie', 20], ['isa', 20], ['andre', 25], ['isa', 'jennie']]\n",
            "['cachorro', 'gato', 'passaro', 'leão']\n"
          ]
        }
      ]
    },
    {
      "cell_type": "markdown",
      "source": [
        "##dict"
      ],
      "metadata": {
        "id": "-qcLuI5pVxGO"
      }
    },
    {
      "cell_type": "code",
      "source": [
        "#Criando dict/dicionario\n",
        "nomes = {'isa':20,'jennie':20,'andre':25}\n",
        "\n",
        "print(nomes['jennie'])\n",
        "#Alterando valor do dicionario\n",
        "nomes['isa'] = 'não encontrado'\n",
        "\n",
        "#Adicionando novo item no dicionario\n",
        "nomes['vitor'] = 3\n",
        "print(nomes)\n",
        "\n",
        "#Removendo item do dicionario\n",
        "nomes.pop('andre')\n",
        "print(nomes)\n",
        "\n",
        "#Retorna as chaves do dicionario\n",
        "print(nomes.keys())\n",
        "\n",
        "#Retorna os valores do dicionario\n",
        "print(nomes.values())\n"
      ],
      "metadata": {
        "id": "S5U7DMlOVxiA",
        "colab": {
          "base_uri": "https://localhost:8080/"
        },
        "outputId": "a3db9ef9-92d9-4b94-8cc9-a15918859c01"
      },
      "execution_count": null,
      "outputs": [
        {
          "output_type": "stream",
          "name": "stdout",
          "text": [
            "20\n",
            "{'isa': 'não encontrado', 'jennie': 20, 'andre': 25, 'vitor': 3}\n",
            "{'isa': 'não encontrado', 'jennie': 20, 'vitor': 3}\n",
            "dict_keys(['isa', 'jennie', 'vitor'])\n",
            "dict_values(['não encontrado', 20, 3])\n"
          ]
        }
      ]
    },
    {
      "cell_type": "markdown",
      "source": [
        "#Condicionais e operadores logicos"
      ],
      "metadata": {
        "id": "9G6xHBH6V1h0"
      }
    },
    {
      "cell_type": "markdown",
      "source": [
        "Condicionais são uteis para verificar um ou mais inputs e tomar uma \"decisão\" ou seguir um fluxo especifico para aquele cenario"
      ],
      "metadata": {
        "id": "IMHacel7V5ME"
      }
    },
    {
      "cell_type": "code",
      "source": [
        "#Operadores logicos\n",
        "<,>,!= <>,==, <=,>=\n",
        "\n",
        "#Condicionais\n",
        "if\n",
        "elif\n",
        "else\n",
        "\n",
        "#Outros\n",
        "is not None, is None, is True, is False, is not True, is not False"
      ],
      "metadata": {
        "id": "DQY_Lu_CV6Gb"
      },
      "execution_count": null,
      "outputs": []
    },
    {
      "cell_type": "code",
      "source": [
        "#Exemplo com numeros\n",
        "idade_isa = 20\n",
        "idade_jennie = 20\n",
        "\n",
        "#Quem é mais velha\n",
        "if idade_isa > idade_jennie:\n",
        "  print('Isa é mais velha')\n",
        "elif idade_jennie > idade_isa:\n",
        "  print('Jennie é mais velha')\n",
        "\n",
        "else:\n",
        "  print('As duas tem a mesma idade')\n"
      ],
      "metadata": {
        "id": "VtU1DnaZV8YK",
        "colab": {
          "base_uri": "https://localhost:8080/"
        },
        "outputId": "32636588-9709-41bc-cfeb-84c51a87e6cd"
      },
      "execution_count": null,
      "outputs": [
        {
          "output_type": "stream",
          "name": "stdout",
          "text": [
            "As duas tem a mesma idade\n"
          ]
        }
      ]
    },
    {
      "cell_type": "code",
      "source": [
        "#Exemplo com texto e numero\n",
        "\n",
        "nome=input(\"Digite o nome: \")\n",
        "idade=int(input(\"Digite a idade: \"))\n",
        "doenca_infectocontagiosa=input(\"Suspeita de doença infecto-contagiosa?\").upper()\n",
        "if idade>=65 and doenca_infectocontagiosa==\"SIM\":\n",
        "    print(\"O paciente será direcionado para sala AMARELA - COM prioridade\")\n",
        "elif idade < 65 and doenca_infectocontagiosa == \"SIM\":\n",
        "    print(\"O paciente será direcionado para sala AMARELA - SEM prioridade\")\n",
        "elif idade >= 65 and doenca_infectocontagiosa == \"NAO\":\n",
        "    print(\"O paciente será direcionado para sala BRANCA - COM prioridade\")\n",
        "elif idade < 65 and doenca_infectocontagiosa == \"NAO\":\n",
        "    print(\"O paciente será direcionado para sala BRANCA - SEM prioridade\")\n",
        "else:\n",
        "    print(\"Responda a suspeita de doença infectocontagiosa com SIM ou NAO\")"
      ],
      "metadata": {
        "id": "_5Uyn_pWV-_q",
        "colab": {
          "base_uri": "https://localhost:8080/"
        },
        "outputId": "bcc999ee-43fc-4d2d-fff3-8a3260898b6f"
      },
      "execution_count": null,
      "outputs": [
        {
          "output_type": "stream",
          "name": "stdout",
          "text": [
            "Digite o nome: Maria\n",
            "Digite a idade: 80\n",
            "Suspeita de doença infecto-contagiosa?SIM\n",
            "O paciente será direcionado para sala AMARELA - COM prioridade\n"
          ]
        }
      ]
    },
    {
      "cell_type": "code",
      "source": [
        "#Exemplo de encadeamento\n",
        "\n",
        "nome=input(\"Digite o nome: \")\n",
        "idade=int(input(\"Digite a idade: \"))\n",
        "doenca_infectocontagiosa=input(\"Suspeita de doença infectocontagiosa?\").upper()\n",
        "if idade >= 65:\n",
        "    print(\"Paciente COM prioridade\")\n",
        "    if doenca_infectocontagiosa==\"SIM\":\n",
        "        print(\"Encaminhe o paciente para sala VERMELHA\")\n",
        "    elif doenca_infectocontagiosa==\"NAO\":\n",
        "        print(\"Encaminhe o paciente para sala BRANCA\")\n",
        "    else:\n",
        "        print(\"Responda a suspeita de doença infectocontagiosa com SIM ou NAO\")\n",
        "else:\n",
        "    print(\"Paciente SEM prioridade\")\n",
        "    if doenca_infectocontagiosa==\"SIM\":\n",
        "        print(\"Encaminhe o paciente para sala AMARELA\")\n",
        "    elif doenca_infectocontagiosa==\"NAO\":\n",
        "        print(\"Encaminhe o paciente para sala BRANCA\")\n",
        "    else:\n",
        "        print(\"Responda a suspeita de doença infectocontagiosa com SIM ou NAO\")"
      ],
      "metadata": {
        "id": "0EYA_ShHV_9l"
      },
      "execution_count": null,
      "outputs": []
    },
    {
      "cell_type": "code",
      "source": [
        "valor = 10.7\n",
        "\n",
        "if type(valor) == int:\n",
        "  print('Valor não tem centavos')\n",
        "elif type(valor) == float:\n",
        "  centavos = str(valor).split('.')[-1]\n",
        "  print(f'Valor tem {centavos} centavos')\n",
        "else:\n",
        "  print('Coloque apenas valores int ou float')\n",
        "\n"
      ],
      "metadata": {
        "id": "rGdl7g5kWBKX",
        "colab": {
          "base_uri": "https://localhost:8080/"
        },
        "outputId": "12246403-12d1-4c46-8e6c-cdb6cbe2e4d5"
      },
      "execution_count": null,
      "outputs": [
        {
          "output_type": "stream",
          "name": "stdout",
          "text": [
            "Valor tem 7 centavos\n"
          ]
        }
      ]
    },
    {
      "cell_type": "markdown",
      "source": [
        "#Loop de repetição"
      ],
      "metadata": {
        "id": "UHetN0soWCuC"
      }
    },
    {
      "cell_type": "code",
      "source": [
        "while\n",
        "for\n",
        "[x for x in range(0,100)]"
      ],
      "metadata": {
        "id": "4r3AzEV8WDL1"
      },
      "execution_count": null,
      "outputs": []
    },
    {
      "cell_type": "code",
      "source": [
        "resposta = \"SIM\"\n",
        "while resposta == \"SIM\":\n",
        "    nivel = input(\"Digite o nível de acesso: \").upper()\n",
        "    if nivel == \"ADM\" or nivel == \"USR\":\n",
        "        genero = input(\"Digite o seu gênero: \").upper()\n",
        "        if nivel == \"ADM\":\n",
        "            if genero == \"FEMININO\":\n",
        "                print(\"Olá administradora\")\n",
        "            else:\n",
        "                print(\"Olá administrador\")\n",
        "        else:\n",
        "            if genero == \"FEMININO\":\n",
        "                print(\"Olá usuária\")\n",
        "            else:\n",
        "                print(\"Olá usuario\")\n",
        "    elif nivel == \"GUEST\":\n",
        "        print(\"Olá visitante\")\n",
        "    else:\n",
        "        print(\"Olá desconhecido(a)\")\n",
        "    resposta = input(\"Digite SIM para continuar: \").upper()"
      ],
      "metadata": {
        "id": "3ujhf7AAWFau"
      },
      "execution_count": null,
      "outputs": []
    },
    {
      "cell_type": "code",
      "source": [
        "for numero in range(0,1000):\n",
        "  print(f'numero: {numero}')"
      ],
      "metadata": {
        "id": "ueAfwB3HWGoy"
      },
      "execution_count": null,
      "outputs": []
    },
    {
      "cell_type": "code",
      "source": [
        "\n",
        "contador = 0\n",
        "while True:\n",
        "  if contador < 10:\n",
        "    contador += 1\n",
        "  else:\n",
        "    break\n",
        "  print(contador)"
      ],
      "metadata": {
        "id": "VRxl2H2kWJMJ"
      },
      "execution_count": null,
      "outputs": []
    },
    {
      "cell_type": "code",
      "source": [
        "pass\n",
        "continue"
      ],
      "metadata": {
        "id": "9Aslpa2KWKvY"
      },
      "execution_count": null,
      "outputs": []
    },
    {
      "cell_type": "code",
      "source": [
        "\n",
        "par = False\n",
        "numeros_pares = []\n",
        "for i in range(0,100):\n",
        "  if i % 2:\n",
        "    par = True\n",
        "\n",
        "  if par:\n",
        "    continue\n",
        "  else:\n",
        "    pass\n",
        "\n",
        "  if par:\n",
        "    numeros_pares.append(i)\n",
        "\n",
        "\n",
        "print(numeros_pares)\n"
      ],
      "metadata": {
        "id": "XvEQvVlqWL-t"
      },
      "execution_count": null,
      "outputs": []
    },
    {
      "cell_type": "code",
      "source": [
        "lista_de_numeros = [numero for numero in range(0,100)]\n",
        "print(lista_de_numeros)"
      ],
      "metadata": {
        "id": "tIWhB51fWNGO"
      },
      "execution_count": null,
      "outputs": []
    }
  ]
}
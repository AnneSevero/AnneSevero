{
  "nbformat": 4,
  "nbformat_minor": 0,
  "metadata": {
    "colab": {
      "provenance": [],
      "authorship_tag": "ABX9TyPmgNbXnDTd2iJbjLhHkI2o",
      "include_colab_link": true
    },
    "kernelspec": {
      "name": "python3",
      "display_name": "Python 3"
    },
    "language_info": {
      "name": "python"
    }
  },
  "cells": [
    {
      "cell_type": "markdown",
      "metadata": {
        "id": "view-in-github",
        "colab_type": "text"
      },
      "source": [
        "<a href=\"https://colab.research.google.com/github/AnneSevero/AnneSevero/blob/main/Aula%201%20Python.ipynb\" target=\"_parent\"><img src=\"https://colab.research.google.com/assets/colab-badge.svg\" alt=\"Open In Colab\"/></a>"
      ]
    },
    {
      "cell_type": "code",
      "source": [
        "#dicionario\n",
        "\n",
        "dic_idade = {'Isa': 20, 'Anne': 17, 'Kaike': 19}\n",
        "print(dic_idade)\n",
        "\n",
        "#alterar o valor do item de um dicionario\n",
        "#dic_idade['Maria'] = 21\n",
        "\n",
        "#retorna valores\n",
        "#print(dic_idades.values())\n",
        "\n",
        "#retorna chaves\n",
        "#print(dic_idades.keys())"
      ],
      "metadata": {
        "colab": {
          "base_uri": "https://localhost:8080/"
        },
        "id": "lflqUZr2Xp05",
        "outputId": "b2352273-976d-4067-e71a-b685a33d5585"
      },
      "execution_count": 12,
      "outputs": [
        {
          "output_type": "stream",
          "name": "stdout",
          "text": [
            "{'Isa': 20, 'Anne': 17, 'Kaike': 19}\n"
          ]
        }
      ]
    },
    {
      "cell_type": "code",
      "source": [
        "nomes_tuplas = ('Anne', 'Kaike', 'Anne', 'Anne', 'Anne')\n",
        "print(nomes_tuplas)\n",
        "\n",
        "nomes_set = set(nomes_tuplas)\n",
        "print(nomes_set)"
      ],
      "metadata": {
        "colab": {
          "base_uri": "https://localhost:8080/"
        },
        "id": "XAtx2bFlV29x",
        "outputId": "91991969-e1d1-422a-c512-5f9c878185a5"
      },
      "execution_count": 11,
      "outputs": [
        {
          "output_type": "stream",
          "name": "stdout",
          "text": [
            "('Anne', 'Kaike', 'Anne', 'Anne', 'Anne')\n",
            "{'Kaike', 'Anne'}\n"
          ]
        }
      ]
    },
    {
      "cell_type": "code",
      "source": [
        "nomes = \"Hello World\"\n",
        "print(nomes)"
      ],
      "metadata": {
        "colab": {
          "base_uri": "https://localhost:8080/"
        },
        "id": "SXqh5VmDU77y",
        "outputId": "8d59138f-5880-4d7e-d21f-a78ed6349a4e"
      },
      "execution_count": 4,
      "outputs": [
        {
          "output_type": "stream",
          "name": "stdout",
          "text": [
            "Hello World\n"
          ]
        }
      ]
    },
    {
      "cell_type": "code",
      "source": [
        "#lista\n",
        "nomes = ['Anne, Kaike, Gustavo, Isa']\n",
        "\n",
        "#adicionar um indice\n",
        "#nome.append()\n",
        "\n",
        "#deletar um indice\n",
        "#nomes.pop()\n",
        "\n",
        "#deleta uma lista inteira\n",
        "#nome.clear()\n",
        "\n",
        "#frequencia que o nome aparece dentro de uma lista\n",
        "#nome.count()\n",
        "\n",
        "#tamanho da lista/len é um função que pode usar na lista\n",
        "#print(len(nomes))\n",
        "\n",
        "#concatenação de listas\n",
        "#proa1 ['Equipe 1', 'Equipe 2']\n",
        "#proa2 ['Equipe 3']\n",
        "#proa = proa1 + proa2\n",
        "#print(proa)\n",
        "\n",
        "#tupla\n",
        "#nomes_tupla = ('Isa','Brian','Anne','Guilherme','Anne')\n",
        "#nomes_tupla[0] = 'Oi'\n",
        "#print(nomes_tupla)\n",
        "\n",
        "#set é uma função que reune os valores repetidos\n",
        "#nomes_set = set(nomes_tupla)\n",
        "#print(nomes_set)\n",
        "\n",
        "#dicionario\n"
      ],
      "metadata": {
        "id": "E82KqWxNSlga"
      },
      "execution_count": null,
      "outputs": []
    },
    {
      "cell_type": "code",
      "source": [
        "#string minusculo\n",
        "nome = 'hsudhheewjioosa3488482394'\n",
        "print(nome.lower())"
      ],
      "metadata": {
        "colab": {
          "base_uri": "https://localhost:8080/"
        },
        "id": "qzEu8niyRPSo",
        "outputId": "00e66164-4478-41cd-e04d-f9957ff62a9a"
      },
      "execution_count": 3,
      "outputs": [
        {
          "output_type": "stream",
          "name": "stdout",
          "text": [
            "hsudhheewjioosa3488482394\n"
          ]
        }
      ]
    },
    {
      "cell_type": "code",
      "source": [
        "#string maiúsculo\n",
        "nome = 'Anne7438783929'\n",
        "print(nome.upper())\n"
      ],
      "metadata": {
        "colab": {
          "base_uri": "https://localhost:8080/"
        },
        "id": "sWLq0EskQTAv",
        "outputId": "2a10acc6-214e-41f9-b84c-702fdf1d1de2"
      },
      "execution_count": 2,
      "outputs": [
        {
          "output_type": "stream",
          "name": "stdout",
          "text": [
            "ANNE7438783929\n"
          ]
        }
      ]
    },
    {
      "cell_type": "code",
      "source": [
        "#operadores lógicos\n",
        "<, >, !=, <>, ==, <=, =>\n",
        "\n",
        "#condicionais\n",
        "#if\n",
        "#else\n",
        "#elif"
      ],
      "metadata": {
        "id": "GvoeqZ4HbrOH"
      },
      "execution_count": null,
      "outputs": []
    },
    {
      "cell_type": "code",
      "source": [
        "nome = 'Anne'\n",
        "print(nome)"
      ],
      "metadata": {
        "colab": {
          "base_uri": "https://localhost:8080/"
        },
        "id": "CV1w1zizQK1j",
        "outputId": "ffaf16fe-49db-4000-c100-e1e4e0977476"
      },
      "execution_count": 1,
      "outputs": [
        {
          "output_type": "stream",
          "name": "stdout",
          "text": [
            "Anne\n"
          ]
        }
      ]
    }
  ]
}